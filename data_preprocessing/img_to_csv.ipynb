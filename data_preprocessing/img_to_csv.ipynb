{
 "cells": [
  {
   "cell_type": "code",
   "execution_count": 1,
   "metadata": {},
   "outputs": [],
   "source": [
    "import os\n",
    "import numpy as np\n",
    "import pandas as pd\n",
    "import random"
   ]
  },
  {
   "cell_type": "code",
   "execution_count": 2,
   "metadata": {},
   "outputs": [],
   "source": [
    "def get_img_list(folder):\n",
    "    imgs = []\n",
    "    for scene in os.listdir(folder):\n",
    "        if not scene.startswith('.'):\n",
    "            for cam in os.listdir(os.path.join(folder,scene)):\n",
    "                if not cam.startswith('.'):\n",
    "                    for img in os.listdir(os.path.join(folder,scene,cam)):\n",
    "                        if not img.startswith('.'):\n",
    "                            imgs.append(os.path.join(folder, scene, cam, img))\n",
    "    return imgs"
   ]
  },
  {
   "cell_type": "markdown",
   "metadata": {},
   "source": [
    "# Generate balanced testset"
   ]
  },
  {
   "cell_type": "code",
   "execution_count": 3,
   "metadata": {},
   "outputs": [],
   "source": [
    "fall_test = get_img_list('./fall_img_test')\n",
    "fall_test.sort()\n",
    "label_fall_test = list(np.ones(len(fall_test)))\n",
    "\n",
    "not_fall_test = get_img_list('./not_fall_img_test')\n",
    "random.seed(0)\n",
    "not_fall_test = random.sample(not_fall_test, len(fall_test))\n",
    "not_fall_test.sort()\n",
    "label_not_fall_test = list(np.zeros(len(not_fall_test)))"
   ]
  },
  {
   "cell_type": "code",
   "execution_count": 4,
   "metadata": {},
   "outputs": [],
   "source": [
    "fall_test.extend(not_fall_test)\n",
    "label_fall_test.extend(label_not_fall_test)\n",
    "test = pd.DataFrame({'img':fall_test, 'label':label_fall_test})\n",
    "test.to_csv('test.csv', index=False)"
   ]
  },
  {
   "cell_type": "code",
   "execution_count": 7,
   "metadata": {},
   "outputs": [
    {
     "data": {
      "text/html": [
       "<div>\n",
       "<style scoped>\n",
       "    .dataframe tbody tr th:only-of-type {\n",
       "        vertical-align: middle;\n",
       "    }\n",
       "\n",
       "    .dataframe tbody tr th {\n",
       "        vertical-align: top;\n",
       "    }\n",
       "\n",
       "    .dataframe thead th {\n",
       "        text-align: right;\n",
       "    }\n",
       "</style>\n",
       "<table border=\"1\" class=\"dataframe\">\n",
       "  <thead>\n",
       "    <tr style=\"text-align: right;\">\n",
       "      <th></th>\n",
       "      <th>img</th>\n",
       "      <th>label</th>\n",
       "    </tr>\n",
       "  </thead>\n",
       "  <tbody>\n",
       "    <tr>\n",
       "      <td>0</td>\n",
       "      <td>./fall_img_test/chute21/cam1/223.jpg</td>\n",
       "      <td>1.0</td>\n",
       "    </tr>\n",
       "    <tr>\n",
       "      <td>1</td>\n",
       "      <td>./fall_img_test/chute21/cam1/224.jpg</td>\n",
       "      <td>1.0</td>\n",
       "    </tr>\n",
       "    <tr>\n",
       "      <td>2</td>\n",
       "      <td>./fall_img_test/chute21/cam1/225.jpg</td>\n",
       "      <td>1.0</td>\n",
       "    </tr>\n",
       "    <tr>\n",
       "      <td>3</td>\n",
       "      <td>./fall_img_test/chute21/cam1/226.jpg</td>\n",
       "      <td>1.0</td>\n",
       "    </tr>\n",
       "    <tr>\n",
       "      <td>4</td>\n",
       "      <td>./fall_img_test/chute21/cam1/227.jpg</td>\n",
       "      <td>1.0</td>\n",
       "    </tr>\n",
       "    <tr>\n",
       "      <td>...</td>\n",
       "      <td>...</td>\n",
       "      <td>...</td>\n",
       "    </tr>\n",
       "    <tr>\n",
       "      <td>251</td>\n",
       "      <td>./not_fall_img_test/chute22/cam8/174.jpg</td>\n",
       "      <td>0.0</td>\n",
       "    </tr>\n",
       "    <tr>\n",
       "      <td>252</td>\n",
       "      <td>./not_fall_img_test/chute22/cam8/186.jpg</td>\n",
       "      <td>0.0</td>\n",
       "    </tr>\n",
       "    <tr>\n",
       "      <td>253</td>\n",
       "      <td>./not_fall_img_test/chute22/cam8/187.jpg</td>\n",
       "      <td>0.0</td>\n",
       "    </tr>\n",
       "    <tr>\n",
       "      <td>254</td>\n",
       "      <td>./not_fall_img_test/chute22/cam8/192.jpg</td>\n",
       "      <td>0.0</td>\n",
       "    </tr>\n",
       "    <tr>\n",
       "      <td>255</td>\n",
       "      <td>./not_fall_img_test/chute22/cam8/193.jpg</td>\n",
       "      <td>0.0</td>\n",
       "    </tr>\n",
       "  </tbody>\n",
       "</table>\n",
       "<p>256 rows × 2 columns</p>\n",
       "</div>"
      ],
      "text/plain": [
       "                                          img  label\n",
       "0        ./fall_img_test/chute21/cam1/223.jpg    1.0\n",
       "1        ./fall_img_test/chute21/cam1/224.jpg    1.0\n",
       "2        ./fall_img_test/chute21/cam1/225.jpg    1.0\n",
       "3        ./fall_img_test/chute21/cam1/226.jpg    1.0\n",
       "4        ./fall_img_test/chute21/cam1/227.jpg    1.0\n",
       "..                                        ...    ...\n",
       "251  ./not_fall_img_test/chute22/cam8/174.jpg    0.0\n",
       "252  ./not_fall_img_test/chute22/cam8/186.jpg    0.0\n",
       "253  ./not_fall_img_test/chute22/cam8/187.jpg    0.0\n",
       "254  ./not_fall_img_test/chute22/cam8/192.jpg    0.0\n",
       "255  ./not_fall_img_test/chute22/cam8/193.jpg    0.0\n",
       "\n",
       "[256 rows x 2 columns]"
      ]
     },
     "execution_count": 7,
     "metadata": {},
     "output_type": "execute_result"
    }
   ],
   "source": [
    "test"
   ]
  },
  {
   "cell_type": "markdown",
   "metadata": {},
   "source": [
    "# Generate trainset\n",
    "test set is balanced, contains in total 256 images  \n",
    "trainset contains 1616 fall images and 9700 not fall images"
   ]
  },
  {
   "cell_type": "code",
   "execution_count": 8,
   "metadata": {},
   "outputs": [],
   "source": [
    "fall_train = get_img_list('./fall_img_train')\n",
    "fall_train.sort()\n",
    "label_fall_train = list(np.ones(len(fall_train)))\n",
    "\n",
    "not_fall_train = get_img_list('./not_fall_img_train')\n",
    "not_fall_train.sort()\n",
    "label_not_fall_train = list(np.zeros(len(not_fall_train)))"
   ]
  },
  {
   "cell_type": "code",
   "execution_count": 9,
   "metadata": {},
   "outputs": [],
   "source": [
    "fall_train.extend(not_fall_train)\n",
    "label_fall_train.extend(label_not_fall_train)\n",
    "train = pd.DataFrame({'img':fall_train, 'label':label_fall_train})\n",
    "train.to_csv('train.csv', index=False)"
   ]
  },
  {
   "cell_type": "code",
   "execution_count": 10,
   "metadata": {},
   "outputs": [
    {
     "data": {
      "text/html": [
       "<div>\n",
       "<style scoped>\n",
       "    .dataframe tbody tr th:only-of-type {\n",
       "        vertical-align: middle;\n",
       "    }\n",
       "\n",
       "    .dataframe tbody tr th {\n",
       "        vertical-align: top;\n",
       "    }\n",
       "\n",
       "    .dataframe thead th {\n",
       "        text-align: right;\n",
       "    }\n",
       "</style>\n",
       "<table border=\"1\" class=\"dataframe\">\n",
       "  <thead>\n",
       "    <tr style=\"text-align: right;\">\n",
       "      <th></th>\n",
       "      <th>img</th>\n",
       "      <th>label</th>\n",
       "    </tr>\n",
       "  </thead>\n",
       "  <tbody>\n",
       "    <tr>\n",
       "      <td>0</td>\n",
       "      <td>./fall_img_train/chute01/cam1/270.jpg</td>\n",
       "      <td>1.0</td>\n",
       "    </tr>\n",
       "    <tr>\n",
       "      <td>1</td>\n",
       "      <td>./fall_img_train/chute01/cam1/271.jpg</td>\n",
       "      <td>1.0</td>\n",
       "    </tr>\n",
       "    <tr>\n",
       "      <td>2</td>\n",
       "      <td>./fall_img_train/chute01/cam1/272.jpg</td>\n",
       "      <td>1.0</td>\n",
       "    </tr>\n",
       "    <tr>\n",
       "      <td>3</td>\n",
       "      <td>./fall_img_train/chute01/cam1/273.jpg</td>\n",
       "      <td>1.0</td>\n",
       "    </tr>\n",
       "    <tr>\n",
       "      <td>4</td>\n",
       "      <td>./fall_img_train/chute01/cam1/274.jpg</td>\n",
       "      <td>1.0</td>\n",
       "    </tr>\n",
       "    <tr>\n",
       "      <td>...</td>\n",
       "      <td>...</td>\n",
       "      <td>...</td>\n",
       "    </tr>\n",
       "    <tr>\n",
       "      <td>11311</td>\n",
       "      <td>./not_fall_img_train/chute20/cam8/95.jpg</td>\n",
       "      <td>0.0</td>\n",
       "    </tr>\n",
       "    <tr>\n",
       "      <td>11312</td>\n",
       "      <td>./not_fall_img_train/chute20/cam8/96.jpg</td>\n",
       "      <td>0.0</td>\n",
       "    </tr>\n",
       "    <tr>\n",
       "      <td>11313</td>\n",
       "      <td>./not_fall_img_train/chute20/cam8/97.jpg</td>\n",
       "      <td>0.0</td>\n",
       "    </tr>\n",
       "    <tr>\n",
       "      <td>11314</td>\n",
       "      <td>./not_fall_img_train/chute20/cam8/98.jpg</td>\n",
       "      <td>0.0</td>\n",
       "    </tr>\n",
       "    <tr>\n",
       "      <td>11315</td>\n",
       "      <td>./not_fall_img_train/chute20/cam8/99.jpg</td>\n",
       "      <td>0.0</td>\n",
       "    </tr>\n",
       "  </tbody>\n",
       "</table>\n",
       "<p>11316 rows × 2 columns</p>\n",
       "</div>"
      ],
      "text/plain": [
       "                                            img  label\n",
       "0         ./fall_img_train/chute01/cam1/270.jpg    1.0\n",
       "1         ./fall_img_train/chute01/cam1/271.jpg    1.0\n",
       "2         ./fall_img_train/chute01/cam1/272.jpg    1.0\n",
       "3         ./fall_img_train/chute01/cam1/273.jpg    1.0\n",
       "4         ./fall_img_train/chute01/cam1/274.jpg    1.0\n",
       "...                                         ...    ...\n",
       "11311  ./not_fall_img_train/chute20/cam8/95.jpg    0.0\n",
       "11312  ./not_fall_img_train/chute20/cam8/96.jpg    0.0\n",
       "11313  ./not_fall_img_train/chute20/cam8/97.jpg    0.0\n",
       "11314  ./not_fall_img_train/chute20/cam8/98.jpg    0.0\n",
       "11315  ./not_fall_img_train/chute20/cam8/99.jpg    0.0\n",
       "\n",
       "[11316 rows x 2 columns]"
      ]
     },
     "execution_count": 10,
     "metadata": {},
     "output_type": "execute_result"
    }
   ],
   "source": [
    "train"
   ]
  },
  {
   "cell_type": "code",
   "execution_count": null,
   "metadata": {},
   "outputs": [],
   "source": []
  }
 ],
 "metadata": {
  "kernelspec": {
   "display_name": "Python [conda env:scipy_test]",
   "language": "python",
   "name": "conda-env-scipy_test-py"
  },
  "language_info": {
   "codemirror_mode": {
    "name": "ipython",
    "version": 3
   },
   "file_extension": ".py",
   "mimetype": "text/x-python",
   "name": "python",
   "nbconvert_exporter": "python",
   "pygments_lexer": "ipython3",
   "version": "3.7.7"
  }
 },
 "nbformat": 4,
 "nbformat_minor": 2
}
